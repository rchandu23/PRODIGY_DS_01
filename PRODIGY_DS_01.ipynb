{
 "cells": [
  {
   "cell_type": "markdown",
   "id": "1e3d27f2",
   "metadata": {},
   "source": [
    "# Task 1:\n",
    "\n",
    "Create a bar chart or histogram to visualize the distribution of a categorical or continuous variable, such as the distribution of ages or genders in a population."
   ]
  },
  {
   "cell_type": "code",
   "execution_count": 1,
   "id": "3e04ba48",
   "metadata": {},
   "outputs": [],
   "source": [
    "# Import necessary libraries\n",
    "\n",
    "import pandas as pd\n",
    "import matplotlib.pyplot as plt\n",
    "import seaborn as sns"
   ]
  },
  {
   "cell_type": "code",
   "execution_count": 29,
   "id": "3cf8c458",
   "metadata": {},
   "outputs": [],
   "source": [
    "# Load the dataset from a csv file\n",
    "\n",
    "ds = pd.read_csv('population.csv')"
   ]
  },
  {
   "cell_type": "code",
   "execution_count": 30,
   "id": "87ba5731",
   "metadata": {},
   "outputs": [
    {
     "name": "stdout",
     "output_type": "stream",
     "text": [
      "    ID  Gender  Age  Income        City State Country Health Status\n",
      "0    1  Female   45   23456   Hyderabad    TS     IND          Good\n",
      "1    2  Female   69   34567     Chennai    TN     IND          Good\n",
      "2    3  Female   32   45678   Hyderabad    TS     IND          Good\n",
      "3    4    Male   77   56789    Banglore    KN     IND          Good\n",
      "4    5  Female   28   67890    Banglore    KN     IND          Fair\n",
      "5    6    Male   20   24567     Chennai    TN     IND          Poor\n",
      "6    7  Female   39   36789  Coimbatore    TN     IND          Good\n",
      "7    8    Male   41   51678   Hyderabad    TS     IND          Poor\n",
      "8    9  Female   19   20912     Chennai    TN     IND          Good\n",
      "9   10  Female   36   90245    Banglore    KN     IND          Fair\n",
      "10  11    Male   32   56102       Vizag    AP     IND          Good\n",
      "11  12    Male   24   56456       Vizag    AP     IND     Excellent\n",
      "12  13  Female   60   45672       Vizag    AP     IND          Good\n",
      "13  14  Female   57   98123       Vizag    AP     IND     Excellent\n",
      "14  15  Female   38   35000   Hyderabad    TS     IND          Poor\n",
      "15  16  Female   56   23000     Chennai    TN     IND          Fair\n",
      "16  17  Female   40   87000    Banglore    KN     IND          Fair\n",
      "17  18    Male   28   45600     Kurnool    AP     IND          Poor\n",
      "18  19  Female   20   67900     Kurnool    AP     IND          Poor\n",
      "19  20    Male   31   35600     Kurnool    AP     IND     Excellent\n"
     ]
    }
   ],
   "source": [
    "print(ds)"
   ]
  },
  {
   "cell_type": "code",
   "execution_count": 31,
   "id": "def19a43",
   "metadata": {},
   "outputs": [
    {
     "data": {
      "text/html": [
       "<div>\n",
       "<style scoped>\n",
       "    .dataframe tbody tr th:only-of-type {\n",
       "        vertical-align: middle;\n",
       "    }\n",
       "\n",
       "    .dataframe tbody tr th {\n",
       "        vertical-align: top;\n",
       "    }\n",
       "\n",
       "    .dataframe thead th {\n",
       "        text-align: right;\n",
       "    }\n",
       "</style>\n",
       "<table border=\"1\" class=\"dataframe\">\n",
       "  <thead>\n",
       "    <tr style=\"text-align: right;\">\n",
       "      <th></th>\n",
       "      <th>ID</th>\n",
       "      <th>Gender</th>\n",
       "      <th>Age</th>\n",
       "      <th>Income</th>\n",
       "      <th>City</th>\n",
       "      <th>State</th>\n",
       "      <th>Country</th>\n",
       "      <th>Health Status</th>\n",
       "    </tr>\n",
       "  </thead>\n",
       "  <tbody>\n",
       "    <tr>\n",
       "      <th>0</th>\n",
       "      <td>1</td>\n",
       "      <td>Female</td>\n",
       "      <td>45</td>\n",
       "      <td>23456</td>\n",
       "      <td>Hyderabad</td>\n",
       "      <td>TS</td>\n",
       "      <td>IND</td>\n",
       "      <td>Good</td>\n",
       "    </tr>\n",
       "    <tr>\n",
       "      <th>1</th>\n",
       "      <td>2</td>\n",
       "      <td>Female</td>\n",
       "      <td>69</td>\n",
       "      <td>34567</td>\n",
       "      <td>Chennai</td>\n",
       "      <td>TN</td>\n",
       "      <td>IND</td>\n",
       "      <td>Good</td>\n",
       "    </tr>\n",
       "    <tr>\n",
       "      <th>2</th>\n",
       "      <td>3</td>\n",
       "      <td>Female</td>\n",
       "      <td>32</td>\n",
       "      <td>45678</td>\n",
       "      <td>Hyderabad</td>\n",
       "      <td>TS</td>\n",
       "      <td>IND</td>\n",
       "      <td>Good</td>\n",
       "    </tr>\n",
       "    <tr>\n",
       "      <th>3</th>\n",
       "      <td>4</td>\n",
       "      <td>Male</td>\n",
       "      <td>77</td>\n",
       "      <td>56789</td>\n",
       "      <td>Banglore</td>\n",
       "      <td>KN</td>\n",
       "      <td>IND</td>\n",
       "      <td>Good</td>\n",
       "    </tr>\n",
       "    <tr>\n",
       "      <th>4</th>\n",
       "      <td>5</td>\n",
       "      <td>Female</td>\n",
       "      <td>28</td>\n",
       "      <td>67890</td>\n",
       "      <td>Banglore</td>\n",
       "      <td>KN</td>\n",
       "      <td>IND</td>\n",
       "      <td>Fair</td>\n",
       "    </tr>\n",
       "    <tr>\n",
       "      <th>5</th>\n",
       "      <td>6</td>\n",
       "      <td>Male</td>\n",
       "      <td>20</td>\n",
       "      <td>24567</td>\n",
       "      <td>Chennai</td>\n",
       "      <td>TN</td>\n",
       "      <td>IND</td>\n",
       "      <td>Poor</td>\n",
       "    </tr>\n",
       "    <tr>\n",
       "      <th>6</th>\n",
       "      <td>7</td>\n",
       "      <td>Female</td>\n",
       "      <td>39</td>\n",
       "      <td>36789</td>\n",
       "      <td>Coimbatore</td>\n",
       "      <td>TN</td>\n",
       "      <td>IND</td>\n",
       "      <td>Good</td>\n",
       "    </tr>\n",
       "    <tr>\n",
       "      <th>7</th>\n",
       "      <td>8</td>\n",
       "      <td>Male</td>\n",
       "      <td>41</td>\n",
       "      <td>51678</td>\n",
       "      <td>Hyderabad</td>\n",
       "      <td>TS</td>\n",
       "      <td>IND</td>\n",
       "      <td>Poor</td>\n",
       "    </tr>\n",
       "    <tr>\n",
       "      <th>8</th>\n",
       "      <td>9</td>\n",
       "      <td>Female</td>\n",
       "      <td>19</td>\n",
       "      <td>20912</td>\n",
       "      <td>Chennai</td>\n",
       "      <td>TN</td>\n",
       "      <td>IND</td>\n",
       "      <td>Good</td>\n",
       "    </tr>\n",
       "    <tr>\n",
       "      <th>9</th>\n",
       "      <td>10</td>\n",
       "      <td>Female</td>\n",
       "      <td>36</td>\n",
       "      <td>90245</td>\n",
       "      <td>Banglore</td>\n",
       "      <td>KN</td>\n",
       "      <td>IND</td>\n",
       "      <td>Fair</td>\n",
       "    </tr>\n",
       "  </tbody>\n",
       "</table>\n",
       "</div>"
      ],
      "text/plain": [
       "   ID  Gender  Age  Income        City State Country Health Status\n",
       "0   1  Female   45   23456   Hyderabad    TS     IND          Good\n",
       "1   2  Female   69   34567     Chennai    TN     IND          Good\n",
       "2   3  Female   32   45678   Hyderabad    TS     IND          Good\n",
       "3   4    Male   77   56789    Banglore    KN     IND          Good\n",
       "4   5  Female   28   67890    Banglore    KN     IND          Fair\n",
       "5   6    Male   20   24567     Chennai    TN     IND          Poor\n",
       "6   7  Female   39   36789  Coimbatore    TN     IND          Good\n",
       "7   8    Male   41   51678   Hyderabad    TS     IND          Poor\n",
       "8   9  Female   19   20912     Chennai    TN     IND          Good\n",
       "9  10  Female   36   90245    Banglore    KN     IND          Fair"
      ]
     },
     "execution_count": 31,
     "metadata": {},
     "output_type": "execute_result"
    }
   ],
   "source": [
    "# displaying the first 10 rows\n",
    "ds.head(10)"
   ]
  },
  {
   "cell_type": "code",
   "execution_count": 32,
   "id": "3ad412cd",
   "metadata": {},
   "outputs": [
    {
     "data": {
      "text/html": [
       "<div>\n",
       "<style scoped>\n",
       "    .dataframe tbody tr th:only-of-type {\n",
       "        vertical-align: middle;\n",
       "    }\n",
       "\n",
       "    .dataframe tbody tr th {\n",
       "        vertical-align: top;\n",
       "    }\n",
       "\n",
       "    .dataframe thead th {\n",
       "        text-align: right;\n",
       "    }\n",
       "</style>\n",
       "<table border=\"1\" class=\"dataframe\">\n",
       "  <thead>\n",
       "    <tr style=\"text-align: right;\">\n",
       "      <th></th>\n",
       "      <th>ID</th>\n",
       "      <th>Gender</th>\n",
       "      <th>Age</th>\n",
       "      <th>Income</th>\n",
       "      <th>City</th>\n",
       "      <th>State</th>\n",
       "      <th>Country</th>\n",
       "      <th>Health Status</th>\n",
       "    </tr>\n",
       "  </thead>\n",
       "  <tbody>\n",
       "    <tr>\n",
       "      <th>10</th>\n",
       "      <td>11</td>\n",
       "      <td>Male</td>\n",
       "      <td>32</td>\n",
       "      <td>56102</td>\n",
       "      <td>Vizag</td>\n",
       "      <td>AP</td>\n",
       "      <td>IND</td>\n",
       "      <td>Good</td>\n",
       "    </tr>\n",
       "    <tr>\n",
       "      <th>11</th>\n",
       "      <td>12</td>\n",
       "      <td>Male</td>\n",
       "      <td>24</td>\n",
       "      <td>56456</td>\n",
       "      <td>Vizag</td>\n",
       "      <td>AP</td>\n",
       "      <td>IND</td>\n",
       "      <td>Excellent</td>\n",
       "    </tr>\n",
       "    <tr>\n",
       "      <th>12</th>\n",
       "      <td>13</td>\n",
       "      <td>Female</td>\n",
       "      <td>60</td>\n",
       "      <td>45672</td>\n",
       "      <td>Vizag</td>\n",
       "      <td>AP</td>\n",
       "      <td>IND</td>\n",
       "      <td>Good</td>\n",
       "    </tr>\n",
       "    <tr>\n",
       "      <th>13</th>\n",
       "      <td>14</td>\n",
       "      <td>Female</td>\n",
       "      <td>57</td>\n",
       "      <td>98123</td>\n",
       "      <td>Vizag</td>\n",
       "      <td>AP</td>\n",
       "      <td>IND</td>\n",
       "      <td>Excellent</td>\n",
       "    </tr>\n",
       "    <tr>\n",
       "      <th>14</th>\n",
       "      <td>15</td>\n",
       "      <td>Female</td>\n",
       "      <td>38</td>\n",
       "      <td>35000</td>\n",
       "      <td>Hyderabad</td>\n",
       "      <td>TS</td>\n",
       "      <td>IND</td>\n",
       "      <td>Poor</td>\n",
       "    </tr>\n",
       "    <tr>\n",
       "      <th>15</th>\n",
       "      <td>16</td>\n",
       "      <td>Female</td>\n",
       "      <td>56</td>\n",
       "      <td>23000</td>\n",
       "      <td>Chennai</td>\n",
       "      <td>TN</td>\n",
       "      <td>IND</td>\n",
       "      <td>Fair</td>\n",
       "    </tr>\n",
       "    <tr>\n",
       "      <th>16</th>\n",
       "      <td>17</td>\n",
       "      <td>Female</td>\n",
       "      <td>40</td>\n",
       "      <td>87000</td>\n",
       "      <td>Banglore</td>\n",
       "      <td>KN</td>\n",
       "      <td>IND</td>\n",
       "      <td>Fair</td>\n",
       "    </tr>\n",
       "    <tr>\n",
       "      <th>17</th>\n",
       "      <td>18</td>\n",
       "      <td>Male</td>\n",
       "      <td>28</td>\n",
       "      <td>45600</td>\n",
       "      <td>Kurnool</td>\n",
       "      <td>AP</td>\n",
       "      <td>IND</td>\n",
       "      <td>Poor</td>\n",
       "    </tr>\n",
       "    <tr>\n",
       "      <th>18</th>\n",
       "      <td>19</td>\n",
       "      <td>Female</td>\n",
       "      <td>20</td>\n",
       "      <td>67900</td>\n",
       "      <td>Kurnool</td>\n",
       "      <td>AP</td>\n",
       "      <td>IND</td>\n",
       "      <td>Poor</td>\n",
       "    </tr>\n",
       "    <tr>\n",
       "      <th>19</th>\n",
       "      <td>20</td>\n",
       "      <td>Male</td>\n",
       "      <td>31</td>\n",
       "      <td>35600</td>\n",
       "      <td>Kurnool</td>\n",
       "      <td>AP</td>\n",
       "      <td>IND</td>\n",
       "      <td>Excellent</td>\n",
       "    </tr>\n",
       "  </tbody>\n",
       "</table>\n",
       "</div>"
      ],
      "text/plain": [
       "    ID  Gender  Age  Income       City State Country Health Status\n",
       "10  11    Male   32   56102      Vizag    AP     IND          Good\n",
       "11  12    Male   24   56456      Vizag    AP     IND     Excellent\n",
       "12  13  Female   60   45672      Vizag    AP     IND          Good\n",
       "13  14  Female   57   98123      Vizag    AP     IND     Excellent\n",
       "14  15  Female   38   35000  Hyderabad    TS     IND          Poor\n",
       "15  16  Female   56   23000    Chennai    TN     IND          Fair\n",
       "16  17  Female   40   87000   Banglore    KN     IND          Fair\n",
       "17  18    Male   28   45600    Kurnool    AP     IND          Poor\n",
       "18  19  Female   20   67900    Kurnool    AP     IND          Poor\n",
       "19  20    Male   31   35600    Kurnool    AP     IND     Excellent"
      ]
     },
     "execution_count": 32,
     "metadata": {},
     "output_type": "execute_result"
    }
   ],
   "source": [
    "# displaying the last 10 rows\n",
    "ds.tail(10)"
   ]
  },
  {
   "cell_type": "code",
   "execution_count": 33,
   "id": "0d30e23b",
   "metadata": {},
   "outputs": [
    {
     "data": {
      "text/plain": [
       "(20, 8)"
      ]
     },
     "execution_count": 33,
     "metadata": {},
     "output_type": "execute_result"
    }
   ],
   "source": [
    "# displaying the shape of the dataset (number of rows and columns)\n",
    "ds.shape"
   ]
  },
  {
   "cell_type": "code",
   "execution_count": 34,
   "id": "5e2d7f31",
   "metadata": {},
   "outputs": [
    {
     "data": {
      "text/plain": [
       "<bound method DataFrame.info of     ID  Gender  Age  Income        City State Country Health Status\n",
       "0    1  Female   45   23456   Hyderabad    TS     IND          Good\n",
       "1    2  Female   69   34567     Chennai    TN     IND          Good\n",
       "2    3  Female   32   45678   Hyderabad    TS     IND          Good\n",
       "3    4    Male   77   56789    Banglore    KN     IND          Good\n",
       "4    5  Female   28   67890    Banglore    KN     IND          Fair\n",
       "5    6    Male   20   24567     Chennai    TN     IND          Poor\n",
       "6    7  Female   39   36789  Coimbatore    TN     IND          Good\n",
       "7    8    Male   41   51678   Hyderabad    TS     IND          Poor\n",
       "8    9  Female   19   20912     Chennai    TN     IND          Good\n",
       "9   10  Female   36   90245    Banglore    KN     IND          Fair\n",
       "10  11    Male   32   56102       Vizag    AP     IND          Good\n",
       "11  12    Male   24   56456       Vizag    AP     IND     Excellent\n",
       "12  13  Female   60   45672       Vizag    AP     IND          Good\n",
       "13  14  Female   57   98123       Vizag    AP     IND     Excellent\n",
       "14  15  Female   38   35000   Hyderabad    TS     IND          Poor\n",
       "15  16  Female   56   23000     Chennai    TN     IND          Fair\n",
       "16  17  Female   40   87000    Banglore    KN     IND          Fair\n",
       "17  18    Male   28   45600     Kurnool    AP     IND          Poor\n",
       "18  19  Female   20   67900     Kurnool    AP     IND          Poor\n",
       "19  20    Male   31   35600     Kurnool    AP     IND     Excellent>"
      ]
     },
     "execution_count": 34,
     "metadata": {},
     "output_type": "execute_result"
    }
   ],
   "source": [
    "# displaying the basic information about the dataset\n",
    "ds.info"
   ]
  },
  {
   "cell_type": "code",
   "execution_count": 35,
   "id": "390ac13e",
   "metadata": {},
   "outputs": [
    {
     "data": {
      "text/plain": [
       "ID                int64\n",
       "Gender           object\n",
       "Age               int64\n",
       "Income            int64\n",
       "City             object\n",
       "State            object\n",
       "Country          object\n",
       "Health Status    object\n",
       "dtype: object"
      ]
     },
     "execution_count": 35,
     "metadata": {},
     "output_type": "execute_result"
    }
   ],
   "source": [
    "# display the column names and their data types\n",
    "ds.dtypes"
   ]
  },
  {
   "cell_type": "code",
   "execution_count": 36,
   "id": "b226cc7c",
   "metadata": {},
   "outputs": [
    {
     "data": {
      "text/html": [
       "<div>\n",
       "<style scoped>\n",
       "    .dataframe tbody tr th:only-of-type {\n",
       "        vertical-align: middle;\n",
       "    }\n",
       "\n",
       "    .dataframe tbody tr th {\n",
       "        vertical-align: top;\n",
       "    }\n",
       "\n",
       "    .dataframe thead th {\n",
       "        text-align: right;\n",
       "    }\n",
       "</style>\n",
       "<table border=\"1\" class=\"dataframe\">\n",
       "  <thead>\n",
       "    <tr style=\"text-align: right;\">\n",
       "      <th></th>\n",
       "      <th>ID</th>\n",
       "      <th>Age</th>\n",
       "      <th>Income</th>\n",
       "    </tr>\n",
       "  </thead>\n",
       "  <tbody>\n",
       "    <tr>\n",
       "      <th>count</th>\n",
       "      <td>20.00000</td>\n",
       "      <td>20.000000</td>\n",
       "      <td>20.00000</td>\n",
       "    </tr>\n",
       "    <tr>\n",
       "      <th>mean</th>\n",
       "      <td>10.50000</td>\n",
       "      <td>39.600000</td>\n",
       "      <td>50151.20000</td>\n",
       "    </tr>\n",
       "    <tr>\n",
       "      <th>std</th>\n",
       "      <td>5.91608</td>\n",
       "      <td>16.531947</td>\n",
       "      <td>22827.36241</td>\n",
       "    </tr>\n",
       "    <tr>\n",
       "      <th>min</th>\n",
       "      <td>1.00000</td>\n",
       "      <td>19.000000</td>\n",
       "      <td>20912.00000</td>\n",
       "    </tr>\n",
       "    <tr>\n",
       "      <th>25%</th>\n",
       "      <td>5.75000</td>\n",
       "      <td>28.000000</td>\n",
       "      <td>34891.75000</td>\n",
       "    </tr>\n",
       "    <tr>\n",
       "      <th>50%</th>\n",
       "      <td>10.50000</td>\n",
       "      <td>37.000000</td>\n",
       "      <td>45675.00000</td>\n",
       "    </tr>\n",
       "    <tr>\n",
       "      <th>75%</th>\n",
       "      <td>15.25000</td>\n",
       "      <td>47.750000</td>\n",
       "      <td>59564.25000</td>\n",
       "    </tr>\n",
       "    <tr>\n",
       "      <th>max</th>\n",
       "      <td>20.00000</td>\n",
       "      <td>77.000000</td>\n",
       "      <td>98123.00000</td>\n",
       "    </tr>\n",
       "  </tbody>\n",
       "</table>\n",
       "</div>"
      ],
      "text/plain": [
       "             ID        Age       Income\n",
       "count  20.00000  20.000000     20.00000\n",
       "mean   10.50000  39.600000  50151.20000\n",
       "std     5.91608  16.531947  22827.36241\n",
       "min     1.00000  19.000000  20912.00000\n",
       "25%     5.75000  28.000000  34891.75000\n",
       "50%    10.50000  37.000000  45675.00000\n",
       "75%    15.25000  47.750000  59564.25000\n",
       "max    20.00000  77.000000  98123.00000"
      ]
     },
     "execution_count": 36,
     "metadata": {},
     "output_type": "execute_result"
    }
   ],
   "source": [
    "# summary statistics for numerical columns\n",
    "ds.describe()"
   ]
  },
  {
   "cell_type": "code",
   "execution_count": 37,
   "id": "e4995249",
   "metadata": {},
   "outputs": [
    {
     "data": {
      "text/html": [
       "<div>\n",
       "<style scoped>\n",
       "    .dataframe tbody tr th:only-of-type {\n",
       "        vertical-align: middle;\n",
       "    }\n",
       "\n",
       "    .dataframe tbody tr th {\n",
       "        vertical-align: top;\n",
       "    }\n",
       "\n",
       "    .dataframe thead th {\n",
       "        text-align: right;\n",
       "    }\n",
       "</style>\n",
       "<table border=\"1\" class=\"dataframe\">\n",
       "  <thead>\n",
       "    <tr style=\"text-align: right;\">\n",
       "      <th></th>\n",
       "      <th>Gender</th>\n",
       "      <th>City</th>\n",
       "      <th>State</th>\n",
       "      <th>Country</th>\n",
       "      <th>Health Status</th>\n",
       "    </tr>\n",
       "  </thead>\n",
       "  <tbody>\n",
       "    <tr>\n",
       "      <th>count</th>\n",
       "      <td>20</td>\n",
       "      <td>20</td>\n",
       "      <td>20</td>\n",
       "      <td>20</td>\n",
       "      <td>20</td>\n",
       "    </tr>\n",
       "    <tr>\n",
       "      <th>unique</th>\n",
       "      <td>2</td>\n",
       "      <td>6</td>\n",
       "      <td>4</td>\n",
       "      <td>1</td>\n",
       "      <td>4</td>\n",
       "    </tr>\n",
       "    <tr>\n",
       "      <th>top</th>\n",
       "      <td>Female</td>\n",
       "      <td>Hyderabad</td>\n",
       "      <td>AP</td>\n",
       "      <td>IND</td>\n",
       "      <td>Good</td>\n",
       "    </tr>\n",
       "    <tr>\n",
       "      <th>freq</th>\n",
       "      <td>13</td>\n",
       "      <td>4</td>\n",
       "      <td>7</td>\n",
       "      <td>20</td>\n",
       "      <td>8</td>\n",
       "    </tr>\n",
       "  </tbody>\n",
       "</table>\n",
       "</div>"
      ],
      "text/plain": [
       "        Gender       City State Country Health Status\n",
       "count       20         20    20      20            20\n",
       "unique       2          6     4       1             4\n",
       "top     Female  Hyderabad    AP     IND          Good\n",
       "freq        13          4     7      20             8"
      ]
     },
     "execution_count": 37,
     "metadata": {},
     "output_type": "execute_result"
    }
   ],
   "source": [
    "# summary statistics for categorical columns\n",
    "ds.describe(include=['object'])"
   ]
  },
  {
   "cell_type": "code",
   "execution_count": 38,
   "id": "896a828a",
   "metadata": {},
   "outputs": [
    {
     "data": {
      "text/plain": [
       "ID               0\n",
       "Gender           0\n",
       "Age              0\n",
       "Income           0\n",
       "City             0\n",
       "State            0\n",
       "Country          0\n",
       "Health Status    0\n",
       "dtype: int64"
      ]
     },
     "execution_count": 38,
     "metadata": {},
     "output_type": "execute_result"
    }
   ],
   "source": [
    "# checking for missing values in the dataset\n",
    "ds.isnull().sum()"
   ]
  },
  {
   "cell_type": "markdown",
   "id": "ccf2110c",
   "metadata": {},
   "source": [
    "-> No missing values"
   ]
  },
  {
   "cell_type": "code",
   "execution_count": 48,
   "id": "88227d51",
   "metadata": {},
   "outputs": [],
   "source": [
    "# Count the occurrences of each gender\n",
    "gender_counts = ds['Gender'].value_counts()"
   ]
  },
  {
   "cell_type": "markdown",
   "id": "1c577816",
   "metadata": {},
   "source": [
    "# Bar Chart for Gender Distribution"
   ]
  },
  {
   "cell_type": "code",
   "execution_count": 49,
   "id": "68f8315a",
   "metadata": {},
   "outputs": [
    {
     "data": {
      "image/png": "[encoded data removed]",
      "text/plain": [
       "<Figure size 720x432 with 1 Axes>"
      ]
     },
     "metadata": {
      "needs_background": "light"
     },
     "output_type": "display_data"
    }
   ],
   "source": [
    "# Create the bar chart\n",
    "plt.figure(figsize=(10, 6))  # Set the size of the figure\n",
    "gender_counts.plot(kind='bar', color='skyblue')  # Create a bar plot\n",
    "plt.title('Distribution of Gender')  # Set the title of the plot\n",
    "plt.xlabel('Gender')  # Set the x-axis label\n",
    "plt.ylabel('Count')  # Set the y-axis label\n",
    "plt.xticks(rotation=0)  # Rotate the x-axis labels for better readability\n",
    "plt.show()  # Show the plot"
   ]
  },
  {
   "cell_type": "markdown",
   "id": "6b78093f",
   "metadata": {},
   "source": [
    "# Bar Chart for Health Status Distribution"
   ]
  },
  {
   "cell_type": "code",
   "execution_count": 51,
   "id": "e7263497",
   "metadata": {},
   "outputs": [],
   "source": [
    "# Count the occurrences of each employment status\n",
    "health_counts = ds['Health Status'].value_counts()"
   ]
  },
  {
   "cell_type": "code",
   "execution_count": 53,
   "id": "a6eff3a9",
   "metadata": {},
   "outputs": [
    {
     "data": {
      "image/png": "[encoded data removed]",
      "text/plain": [
       "<Figure size 720x432 with 1 Axes>"
      ]
     },
     "metadata": {
      "needs_background": "light"
     },
     "output_type": "display_data"
    }
   ],
   "source": [
    "# Plot the bar chart\n",
    "plt.figure(figsize=(10, 6))  # Set the size of the figure\n",
    "health_counts.plot(kind='bar', color='lightgreen')  # Create a bar plot\n",
    "plt.title('Distribution of Health Status')  # Set the title of the plot\n",
    "plt.xlabel('Health Status')  # Set the x-axis label\n",
    "plt.ylabel('Count')  # Set the y-axis label\n",
    "plt.xticks(rotation=45)  # Rotate the x-axis labels for better readability\n",
    "plt.show()  # Show the plot"
   ]
  },
  {
   "cell_type": "markdown",
   "id": "04662422",
   "metadata": {},
   "source": [
    "# Histogram for Age Distribution"
   ]
  },
  {
   "cell_type": "code",
   "execution_count": 75,
   "id": "37af119f",
   "metadata": {},
   "outputs": [
    {
     "data": {
      "image/png": "[encoded data removed]",
      "text/plain": [
       "<Figure size 720x720 with 1 Axes>"
      ]
     },
     "metadata": {
      "needs_background": "light"
     },
     "output_type": "display_data"
    }
   ],
   "source": [
    "# Define the class intervals\n",
    "class_intervals = [0, 20, 40, 60, 80]\n",
    "\n",
    "# Calculate the frequency of ages in each class interval\n",
    "freq_counts, _ = np.histogram(ages, bins=class_intervals)\n",
    "\n",
    "# Plot the histogram\n",
    "plt.figure(figsize=(10, 10))  # Set the size of the figure\n",
    "plt.bar(['0-20', '20-40', '40-60', '60-80'], freq_counts, color='blue')  # Create a bar chart\n",
    "plt.title('Distribution of Age')  # Set the title of the plot\n",
    "plt.xlabel('Age')  # Set the x-axis label\n",
    "plt.ylabel('Frequency')  # Set the y-axis label\n",
    "plt.grid(axis='y', linestyle='--', alpha=0.7)  # Add grid lines to the y-axis\n",
    "plt.show()  # Show the plot"
   ]
  },
  {
   "cell_type": "code",
   "execution_count": null,
   "id": "c42169cb",
   "metadata": {},
   "outputs": [],
   "source": []
  }
 ],
 "metadata": {
  "kernelspec": {
   "display_name": "Python 3 (ipykernel)",
   "language": "python",
   "name": "python3"
  },
  "language_info": {
   "codemirror_mode": {
    "name": "ipython",
    "version": 3
   },
   "file_extension": ".py",
   "mimetype": "text/x-python",
   "name": "python",
   "nbconvert_exporter": "python",
   "pygments_lexer": "ipython3",
   "version": "3.9.8"
  }
 },
 "nbformat": 4,
 "nbformat_minor": 5
}
